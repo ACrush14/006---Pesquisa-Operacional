{
  "nbformat": 4,
  "nbformat_minor": 0,
  "metadata": {
    "colab": {
      "provenance": [],
      "include_colab_link": true
    },
    "kernelspec": {
      "name": "python3",
      "display_name": "Python 3"
    },
    "language_info": {
      "name": "python"
    }
  },
  "cells": [
    {
      "cell_type": "markdown",
      "metadata": {
        "id": "view-in-github",
        "colab_type": "text"
      },
      "source": [
        "<a href=\"https://colab.research.google.com/github/ACrush14/006---Pesquisa-Operacional/blob/trabalhoFinal/Estudo_de_caso_final_Anderson_T10_MBA_Ciencia_de_dados.ipynb\" target=\"_parent\"><img src=\"https://colab.research.google.com/assets/colab-badge.svg\" alt=\"Open In Colab\"/></a>"
      ]
    },
    {
      "cell_type": "markdown",
      "source": [
        "# **Cada Equipe deve postar o código Python ( Arquivo *.ipynb) no AVA.**\n",
        "\n",
        "ou mandar para daniel.bentesc@gmail.com\n",
        "\n",
        "Coloquem o nome dos participantes da equipe abaixo:\n",
        "\n",
        "1- Anderson Herculano de Lima\n",
        "\n",
        "2-\n",
        "\n",
        "3-\n"
      ],
      "metadata": {
        "id": "fU7JwSCnpKrW"
      }
    },
    {
      "cell_type": "markdown",
      "source": [
        "## **Estudo de Caso Final: Otimização de Produção Agrícola**\n",
        "\n",
        "Uma fazenda possui diferentes culturas que podem ser plantadas em suas terras. O objetivo é maximizar o lucro total da fazenda, considerando as limitações de recursos disponíveis e as demandas de mercado.\n",
        "\n",
        "###**Detalhes do Problema:**\n",
        "\n",
        "Existem cinco tipos de culturas que podem ser plantadas: A, B, C, D e E. Cada cultura requer diferentes quantidades de recursos (tempo, mão de obra, área) para ser cultivada e gera diferentes lucros por unidade produzida. A fazenda tem recursos limitados disponíveis para alocar para essas culturas.\n",
        "\n",
        "###**Você precisa informar a quantidade produzida de cada cultura e o lucro final da fazenda.**\n",
        "\n",
        "###**Detalhes das Culturas:**\n",
        "\n",
        "**Cultura A:** Requer 1 horas de trabalho, 1 acre de terra e 1 unidade de água para produzir uma unidade. Gera um lucro de 300 unidades monetárias por unidade.\n",
        "\n",
        "**Cultura B:** Requer 1 horas de trabalho, 1 acre de terra e 1 unidade de água para produzir uma unidade. Gera um lucro de 400 unidades monetárias por unidade.\n",
        "\n",
        "**Cultura C:** Requer 2 horas de trabalho, 1,5 acres de terra e 2 unidades de água para produzir uma unidade. Gera um lucro de 450 unidades monetárias por unidade.\n",
        "\n",
        "**Cultura D:** Requer 2 horas de trabalho, 2 acres de terra e 3 unidades de água para produzir uma unidade. Gera um lucro de 600 unidades monetárias por unidade.\n",
        "\n",
        "**Cultura E:** Requer 1 horas de trabalho, 2,5 acres de terra e 4 unidades de água para produzir uma unidade. Gera um lucro de 700 unidades monetárias por unidade.\n",
        "\n",
        "###**Restrições:**\n",
        "\n",
        "A fazenda tem um total de 100 horas de trabalho disponíveis por semana.\n",
        "\n",
        "A fazenda possui 200 acres de terra disponíveis.\n",
        "\n",
        "A fazenda tem acesso a 300 unidades de água por semana.\n",
        "\n",
        "Pelo menos **20%** das horas devem ser alocadas para a cultura D.\n",
        "\n",
        "No máximo **30%** das horas podem ser alocadas para a cultura E.\n",
        "\n",
        "###**Desafio Adicional:**\n",
        "\n",
        "Além de maximizar o lucro total, é necessário garantir a demanda semanal mínima de mercado que é:\n",
        "\n",
        "Cultura A: 05 unidades\n",
        "\n",
        "Cultura B: 07 unidades\n",
        "\n",
        "Cultura C: 08 unidades\n",
        "\n",
        "Cultura D: 05 unidades\n",
        "\n",
        "Cultura E: 20 unidades"
      ],
      "metadata": {
        "id": "zGzwnk1rln3j"
      }
    },
    {
      "cell_type": "code",
      "source": [
        "!pip install pulp"
      ],
      "metadata": {
        "colab": {
          "base_uri": "https://localhost:8080/"
        },
        "id": "ecLJHXMKaFZn",
        "outputId": "ffeeba6f-cb97-472a-a8d8-1f4223f64cc8"
      },
      "execution_count": null,
      "outputs": [
        {
          "output_type": "stream",
          "name": "stdout",
          "text": [
            "Collecting pulp\n",
            "  Downloading pulp-3.2.1-py3-none-any.whl.metadata (6.9 kB)\n",
            "Downloading pulp-3.2.1-py3-none-any.whl (16.4 MB)\n",
            "\u001b[2K   \u001b[90m━━━━━━━━━━━━━━━━━━━━━━━━━━━━━━━━━━━━━━━━\u001b[0m \u001b[32m16.4/16.4 MB\u001b[0m \u001b[31m20.7 MB/s\u001b[0m eta \u001b[36m0:00:00\u001b[0m\n",
            "\u001b[?25hInstalling collected packages: pulp\n",
            "Successfully installed pulp-3.2.1\n"
          ]
        }
      ]
    },
    {
      "cell_type": "code",
      "source": [
        "import pulp\n",
        "\n",
        "# 1. Definir o problema (MAXIMIZAR o lucro)\n",
        "prob = pulp.LpProblem(\"Maximizar_Lucro_Agricola\", pulp.LpMaximize)\n",
        "\n",
        "# 2. Variáveis de decisão (quantidade produzida de cada cultura)\n",
        "A = pulp.LpVariable('Cultura_A', lowBound=5, cat='Integer')  # Mínimo 5 unidades\n",
        "B = pulp.LpVariable('Cultura_B', lowBound=7, cat='Integer')  # Mínimo 7 unidades\n",
        "C = pulp.LpVariable('Cultura_C', lowBound=8, cat='Integer')  # Mínimo 8 unidades\n",
        "D = pulp.LpVariable('Cultura_D', lowBound=5, cat='Integer')  # Mínimo 5 unidades\n",
        "E = pulp.LpVariable('Cultura_E', lowBound=20, cat='Integer')  # Mínimo 20 unidades\n",
        "\n",
        "# 3. Função objetivo (Lucro total)\n",
        "prob += 300*A + 400*B + 450*C + 600*D + 700*E, \"Lucro_Total\"\n",
        "\n",
        "# 4. Restrições\n",
        "# 4.1. Recursos disponíveis\n",
        "prob += 1*A + 1*B + 2*C + 2*D + 1*E <= 100, \"Horas_de_Trabalho\"\n",
        "prob += 1*A + 1*B + 1.5*C + 2*D + 2.5*E <= 200, \"Acres_de_Terra\"\n",
        "prob += 1*A + 1*B + 2*C + 3*D + 4*E <= 300, \"Unidades_de_Agua\"\n",
        "\n",
        "# 4.2. Restrições de alocação de horas\n",
        "prob += 2*D >= 0.20 * (1*A + 1*B + 2*C + 2*D + 1*E), \"Minimo_horas_D\"\n",
        "prob += 1*E <= 0.30 * (1*A + 1*B + 2*C + 2*D + 1*E), \"Maximo_horas_E\"\n",
        "\n",
        "# 5. Resolver o problema\n",
        "prob.solve()\n",
        "\n",
        "# 6. Resultados\n",
        "print(\"Status:\", pulp.LpStatus[prob.status])\n",
        "print(\"Quantidade de Cultura A:\", A.value())\n",
        "print(\"Quantidade de Cultura B:\", B.value())\n",
        "print(\"Quantidade de Cultura C:\", C.value())\n",
        "print(\"Quantidade de Cultura D:\", D.value())\n",
        "print(\"Quantidade de Cultura E:\", E.value())\n",
        "print(\"\\nRecursos utilizados:\")\n",
        "print(\"Horas de trabalho usadas:\", 1*A.value() + 1*B.value() + 2*C.value() + 2*D.value() + 1*E.value())\n",
        "print(\"Acres de terra usados:\", 1*A.value() + 1*B.value() + 1.5*C.value() + 2*D.value() + 2.5*E.value())\n",
        "print(\"Unidades de água usadas:\", 1*A.value() + 1*B.value() + 2*C.value() + 3*D.value() + 4*E.value())\n",
        "print(\"\\nLucro Total: R$\", pulp.value(prob.objective))"
      ],
      "metadata": {
        "colab": {
          "base_uri": "https://localhost:8080/"
        },
        "id": "Umr2q9aZasQN",
        "outputId": "facbc0b5-2b7e-4309-9adf-3c75a0611ce6"
      },
      "execution_count": null,
      "outputs": [
        {
          "output_type": "stream",
          "name": "stdout",
          "text": [
            "Status: Optimal\n",
            "Quantidade de Cultura A: 5.0\n",
            "Quantidade de Cultura B: 29.0\n",
            "Quantidade de Cultura C: 8.0\n",
            "Quantidade de Cultura D: 10.0\n",
            "Quantidade de Cultura E: 30.0\n",
            "\n",
            "Recursos utilizados:\n",
            "Horas de trabalho usadas: 100.0\n",
            "Acres de terra usados: 141.0\n",
            "Unidades de água usadas: 200.0\n",
            "\n",
            "Lucro Total: R$ 43700.0\n"
          ]
        }
      ]
    }
  ]
}