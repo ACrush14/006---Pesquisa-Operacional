{
  "nbformat": 4,
  "nbformat_minor": 0,
  "metadata": {
    "colab": {
      "provenance": [],
      "include_colab_link": true
    },
    "kernelspec": {
      "name": "python3",
      "display_name": "Python 3"
    },
    "language_info": {
      "name": "python"
    }
  },
  "cells": [
    {
      "cell_type": "markdown",
      "metadata": {
        "id": "view-in-github",
        "colab_type": "text"
      },
      "source": [
        "<a href=\"https://colab.research.google.com/github/ACrush14/006---Pesquisa-Operacional/blob/Copia-Armazen/C%C3%B3pia_de_F%C3%A1brica_e_Armaz%C3%A9m_.ipynb\" target=\"_parent\"><img src=\"https://colab.research.google.com/assets/colab-badge.svg\" alt=\"Open In Colab\"/></a>"
      ]
    },
    {
      "cell_type": "code",
      "source": [
        "!pip install pulp"
      ],
      "metadata": {
        "colab": {
          "base_uri": "https://localhost:8080/"
        },
        "id": "X_i6maWjMSbN",
        "outputId": "eeaaa358-d3df-43a3-b4ff-6b450de4515f"
      },
      "execution_count": null,
      "outputs": [
        {
          "output_type": "stream",
          "name": "stdout",
          "text": [
            "Collecting pulp\n",
            "  Downloading pulp-3.2.1-py3-none-any.whl.metadata (6.9 kB)\n",
            "Downloading pulp-3.2.1-py3-none-any.whl (16.4 MB)\n",
            "\u001b[2K   \u001b[90m━━━━━━━━━━━━━━━━━━━━━━━━━━━━━━━━━━━━━━━━\u001b[0m \u001b[32m16.4/16.4 MB\u001b[0m \u001b[31m30.7 MB/s\u001b[0m eta \u001b[36m0:00:00\u001b[0m\n",
            "\u001b[?25hInstalling collected packages: pulp\n",
            "Successfully installed pulp-3.2.1\n"
          ]
        }
      ]
    },
    {
      "cell_type": "code",
      "execution_count": null,
      "metadata": {
        "colab": {
          "base_uri": "https://localhost:8080/"
        },
        "id": "iq7a4PfALwhX",
        "outputId": "f65fd6ba-97aa-413f-a780-7e1d46543f30"
      },
      "outputs": [
        {
          "output_type": "stream",
          "name": "stdout",
          "text": [
            "Status: Optimal\n",
            "Quantidade de produtos transportados de F1 para A1: 150.0\n",
            "Quantidade de produtos transportados de F1 para A2: 0.0\n",
            "Quantidade de produtos transportados de F1 para A3: 200.0\n",
            "Quantidade de produtos transportados de F2 para A1: 0.0\n",
            "Quantidade de produtos transportados de F2 para A2: 100.0\n",
            "Quantidade de produtos transportados de F2 para A3: 50.0\n",
            "Custo Total de Transporte:  1700.0\n"
          ]
        },
        {
          "output_type": "stream",
          "name": "stderr",
          "text": [
            "/usr/local/lib/python3.11/dist-packages/pulp/pulp.py:1455: UserWarning: Spaces are not permitted in the name. Converted to '_'\n",
            "  warnings.warn(\"Spaces are not permitted in the name. Converted to '_'\")\n"
          ]
        }
      ],
      "source": [
        "import pulp\n",
        "\n",
        "# Definindo minimização\n",
        "prob = pulp.LpProblem(\"Problema de Transporte\", pulp.LpMinimize)\n",
        "\n",
        "fabricas = ['F1', 'F2']\n",
        "armazens = ['A1', 'A2', 'A3']\n",
        "\n",
        "# Capacidades de produção\n",
        "capacidadesf = {'F1': 350, 'F2': 400}\n",
        "\n",
        "# Demandas dos armazéns\n",
        "capacidadesa = {'A1': 150, 'A2': 100, 'A3': 250}\n",
        "\n",
        "# Custos de transporte\n",
        "custos = {('F1', 'A1'): 5, ('F1', 'A2'): 6, ('F1', 'A3'): 2,\n",
        "          ('F2', 'A1'): 7, ('F2', 'A2'): 4, ('F2', 'A3'): 3}\n",
        "\n",
        "# Variáveis de decisão\n",
        "var = pulp.LpVariable.dicts(\"Transporte\", (fabricas, armazens), lowBound=0, cat='Integer')\n",
        "\n",
        "# Função objetivo\n",
        "prob += pulp.lpSum(var[f][a] * custos[(f, a)] for f in fabricas for a in armazens), \"Custo Total de Transporte\"\n",
        "\n",
        "# Restrições\n",
        "for f in fabricas:\n",
        "    prob += pulp.lpSum(var[f][a] for a in armazens) <= capacidadesf[f], f\"Capacidade de {f}\"\n",
        "\n",
        "# Restrições armazéns\n",
        "for a in armazens:\n",
        "    prob += pulp.lpSum(var[f][a] for f in fabricas) >= capacidadesa[a], f\"Demanda de {a}\"\n",
        "\n",
        "\n",
        "prob.solve()\n",
        "\n",
        "print(\"Status:\", pulp.LpStatus[prob.status])\n",
        "for f in fabricas:\n",
        "    for a in armazens:\n",
        "        print(f\"Quantidade de produtos transportados de {f} para {a}: {pulp.value(var[f][a])}\")\n",
        "print(\"Custo Total de Transporte: \", pulp.value(prob.objective))"
      ]
    },
    {
      "cell_type": "markdown",
      "source": [
        "Estudo de caso 08 - Campanha de Marketing\n",
        "\n",
        "Uma empresa Uma empresa deseja investir R$ 50,000 em uma campanha de marketing digital com o objetivo de maximizar seu retorno financeiro. A campanha será dividida em três canais:\n",
        "\n",
        "Redes Sociais: alto engajamento, mas com custo maior por ação:\n",
        "\n",
        "E-mail Marketing: custo mais baixo, bom retorno, mas exige volume mínimo.\n",
        "\n",
        "Anúncios Pagos: maior retorno poração, mas com custo alto.\n",
        "\n",
        "A empresa detiniu alguns critérios mínimos estratégicos para garantir ume presença equilibrada:\n",
        "\n",
        "Pelo menos 100 ações devem ser feitas em e-mail marketing\n",
        "\n",
        "Pelo menos 30 ações em anúncios pagos\n",
        "\n",
        "Pelo menos 50 ações em redes sociais\n",
        "\n",
        "O orçamento total não pode ultrapassar R$ 50.000\n",
        "\n",
        "Custo por ação:\n",
        "\n",
        "Redes Sociais: R$ 100\n",
        "\n",
        "Email Marketing: R$ 50\n",
        "\n",
        "Anúncios Pagos: R$ 200\n",
        "\n",
        "Retorno estimado por ação:\n",
        "\n",
        "Redes Sociais: R$ 400\n",
        "\n",
        "Email Marketing: R$ 150\n",
        "\n",
        "Anúncios Pagos: R$ 600\n",
        "\n",
        "Problema: Quantas açõex devem ser feitas em cada canal para maximizar o retorno, respeitando as restrições mínimas e o orçamento total?"
      ],
      "metadata": {
        "id": "Q81nBxnWfL64"
      }
    },
    {
      "cell_type": "code",
      "source": [
        "import pulp\n",
        "\n",
        "# 1. Definir o problema (MAXIMIZAR o retorno)\n",
        "prob = pulp.LpProblem(\"Maximizar_Retorno_Marketing\", pulp.LpMaximize)\n",
        "\n",
        "# 2. Variáveis de decisão (quantidade de ações em cada canal)\n",
        "redes_sociais = pulp.LpVariable('Redes_Sociais', lowBound=50, cat='Integer')  # Mínimo 50 ações\n",
        "email_marketing = pulp.LpVariable('Email_Marketing', lowBound=100, cat='Integer')  # Mínimo 100 ações\n",
        "anuncios_pagos = pulp.LpVariable('Anuncios_Pagos', lowBound=30, cat='Integer')  # Mínimo 30 ações\n",
        "\n",
        "# 3. Função objetivo (Retorno total)\n",
        "# Supondo os seguintes retornos por ação (valores hipotéticos - ajuste conforme necessário):\n",
        "# - Redes Sociais: R$ 20 por ação\n",
        "# - E-mail Marketing: R$ 15 por ação\n",
        "# - Anúncios Pagos: R$ 25 por ação\n",
        "prob += 20 * redes_sociais + 15 * email_marketing + 25 * anuncios_pagos, \"Retorno_Total\"\n",
        "\n",
        "# 4. Restrições\n",
        "# 4.1. Orçamento total não pode exceder R$ 50.000\n",
        "# Supondo os seguintes custos por ação (valores hipotéticos - ajuste conforme necessário):\n",
        "# - Redes Sociais: R$ 100 por ação\n",
        "# - E-mail Marketing: R$ 50 por ação\n",
        "# - Anúncios Pagos: R$ 200 por ação\n",
        "prob += 100 * redes_sociais + 50 * email_marketing + 200 * anuncios_pagos <= 50000, \"Orcamento_Total\"\n",
        "\n",
        "# 5. Resolver o problema\n",
        "prob.solve()\n",
        "\n",
        "# 6. Resultados\n",
        "print(\"Status:\", pulp.LpStatus[prob.status])\n",
        "print(\"Ações em Redes Sociais:\", redes_sociais.value())\n",
        "print(\"Ações em E-mail Marketing:\", email_marketing.value())\n",
        "print(\"Ações em Anúncios Pagos:\", anuncios_pagos.value())\n",
        "print(\"Retorno Total: R$\", pulp.value(prob.objective))"
      ],
      "metadata": {
        "colab": {
          "base_uri": "https://localhost:8080/"
        },
        "id": "XOh8AcyNfeR4",
        "outputId": "55b26989-df3c-4d72-e4cf-d8c8374074b7"
      },
      "execution_count": null,
      "outputs": [
        {
          "output_type": "stream",
          "name": "stdout",
          "text": [
            "Status: Optimal\n",
            "Ações em Redes Sociais: 50.0\n",
            "Ações em E-mail Marketing: 780.0\n",
            "Ações em Anúncios Pagos: 30.0\n",
            "Retorno Total: R$ 13450.0\n"
          ]
        }
      ]
    },
    {
      "cell_type": "code",
      "source": [
        "import pulp\n",
        "\n",
        "# 1. Definir o problema (MAXIMIZAR o retorno)\n",
        "prob = pulp.LpProblem(\"Maximizar_Retorno_Marketing\", pulp.LpMaximize)\n",
        "\n",
        "# 2. Variáveis de decisão (quantidade de ações em cada canal)\n",
        "redes_sociais = pulp.LpVariable('Redes_Sociais', lowBound=50, cat='Integer')  # Mínimo 50 ações\n",
        "email_marketing = pulp.LpVariable('Email_Marketing', lowBound=100, cat='Integer')  # Mínimo 100 ações\n",
        "anuncios_pagos = pulp.LpVariable('Anuncios_Pagos', lowBound=30, cat='Integer')  # Mínimo 30 ações\n",
        "\n",
        "# 3. Função objetivo (Retorno total)\n",
        "# Retorno por ação:\n",
        "# - Redes Sociais: R$ 400 por ação\n",
        "# - E-mail Marketing: R$ 150 por ação\n",
        "# - Anúncios Pagos: R$ 600 por ação\n",
        "prob += 400 * redes_sociais + 150 * email_marketing + 600 * anuncios_pagos, \"Retorno_Total\"\n",
        "\n",
        "# 4. Restrições\n",
        "# 4.1. Orçamento total não pode exceder R$ 50.000\n",
        "# Custo por ação:\n",
        "# - Redes Sociais: R$ 100 por ação\n",
        "# - E-mail Marketing: R$ 50 por ação\n",
        "# - Anúncios Pagos: R$ 200 por ação\n",
        "prob += 100 * redes_sociais + 50 * email_marketing + 200 * anuncios_pagos <= 50000, \"Orcamento_Total\"\n",
        "\n",
        "# 5. Resolver o problema\n",
        "prob.solve()\n",
        "\n",
        "# 6. Resultados\n",
        "print(\"Status:\", pulp.LpStatus[prob.status])\n",
        "print(\"Ações em Redes Sociais:\", redes_sociais.value())\n",
        "print(\"Ações em E-mail Marketing:\", email_marketing.value())\n",
        "print(\"Ações em Anúncios Pagos:\", anuncios_pagos.value())\n",
        "print(\"Retorno Total: R$\", pulp.value(prob.objective))"
      ],
      "metadata": {
        "colab": {
          "base_uri": "https://localhost:8080/"
        },
        "id": "tXdTiHZfpTju",
        "outputId": "4881e5ee-6e8e-4c60-cbc5-a6298b09322c"
      },
      "execution_count": null,
      "outputs": [
        {
          "output_type": "stream",
          "name": "stdout",
          "text": [
            "Status: Optimal\n",
            "Ações em Redes Sociais: 390.0\n",
            "Ações em E-mail Marketing: 100.0\n",
            "Ações em Anúncios Pagos: 30.0\n",
            "Retorno Total: R$ 189000.0\n"
          ]
        }
      ]
    }
  ]
}